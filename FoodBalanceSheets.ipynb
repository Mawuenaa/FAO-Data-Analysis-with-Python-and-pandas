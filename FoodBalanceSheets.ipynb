{
 "cells": [
  {
   "cell_type": "code",
   "execution_count": 1,
   "id": "5c9d8bab",
   "metadata": {},
   "outputs": [],
   "source": [
    "import pandas as pd\n",
    "import numpy as np"
   ]
  },
  {
   "cell_type": "code",
   "execution_count": 2,
   "id": "ecbc5541",
   "metadata": {},
   "outputs": [],
   "source": [
    "df = pd.read_csv(\"FoodBalanceSheets_E_Africa_NOFLAG.csv\", encoding=\"latin-1\")"
   ]
  },
  {
   "cell_type": "code",
   "execution_count": 3,
   "id": "a0fcb859",
   "metadata": {},
   "outputs": [
    {
     "data": {
      "text/html": [
       "<div>\n",
       "<style scoped>\n",
       "    .dataframe tbody tr th:only-of-type {\n",
       "        vertical-align: middle;\n",
       "    }\n",
       "\n",
       "    .dataframe tbody tr th {\n",
       "        vertical-align: top;\n",
       "    }\n",
       "\n",
       "    .dataframe thead th {\n",
       "        text-align: right;\n",
       "    }\n",
       "</style>\n",
       "<table border=\"1\" class=\"dataframe\">\n",
       "  <thead>\n",
       "    <tr style=\"text-align: right;\">\n",
       "      <th></th>\n",
       "      <th>Area Code</th>\n",
       "      <th>Area</th>\n",
       "      <th>Item Code</th>\n",
       "      <th>Item</th>\n",
       "      <th>Element Code</th>\n",
       "      <th>Element</th>\n",
       "      <th>Unit</th>\n",
       "      <th>Y2014</th>\n",
       "      <th>Y2015</th>\n",
       "      <th>Y2016</th>\n",
       "      <th>Y2017</th>\n",
       "      <th>Y2018</th>\n",
       "    </tr>\n",
       "  </thead>\n",
       "  <tbody>\n",
       "    <tr>\n",
       "      <th>0</th>\n",
       "      <td>4</td>\n",
       "      <td>Algeria</td>\n",
       "      <td>2501</td>\n",
       "      <td>Population</td>\n",
       "      <td>511</td>\n",
       "      <td>Total Population - Both sexes</td>\n",
       "      <td>1000 persons</td>\n",
       "      <td>38924.00</td>\n",
       "      <td>39728.00</td>\n",
       "      <td>40551.00</td>\n",
       "      <td>41389.00</td>\n",
       "      <td>42228.00</td>\n",
       "    </tr>\n",
       "    <tr>\n",
       "      <th>1</th>\n",
       "      <td>4</td>\n",
       "      <td>Algeria</td>\n",
       "      <td>2501</td>\n",
       "      <td>Population</td>\n",
       "      <td>5301</td>\n",
       "      <td>Domestic supply quantity</td>\n",
       "      <td>1000 tonnes</td>\n",
       "      <td>0.00</td>\n",
       "      <td>0.00</td>\n",
       "      <td>0.00</td>\n",
       "      <td>0.00</td>\n",
       "      <td>0.00</td>\n",
       "    </tr>\n",
       "    <tr>\n",
       "      <th>2</th>\n",
       "      <td>4</td>\n",
       "      <td>Algeria</td>\n",
       "      <td>2901</td>\n",
       "      <td>Grand Total</td>\n",
       "      <td>664</td>\n",
       "      <td>Food supply (kcal/capita/day)</td>\n",
       "      <td>kcal/capita/day</td>\n",
       "      <td>3377.00</td>\n",
       "      <td>3379.00</td>\n",
       "      <td>3372.00</td>\n",
       "      <td>3341.00</td>\n",
       "      <td>3322.00</td>\n",
       "    </tr>\n",
       "    <tr>\n",
       "      <th>3</th>\n",
       "      <td>4</td>\n",
       "      <td>Algeria</td>\n",
       "      <td>2901</td>\n",
       "      <td>Grand Total</td>\n",
       "      <td>674</td>\n",
       "      <td>Protein supply quantity (g/capita/day)</td>\n",
       "      <td>g/capita/day</td>\n",
       "      <td>94.90</td>\n",
       "      <td>94.35</td>\n",
       "      <td>94.72</td>\n",
       "      <td>92.82</td>\n",
       "      <td>91.83</td>\n",
       "    </tr>\n",
       "    <tr>\n",
       "      <th>4</th>\n",
       "      <td>4</td>\n",
       "      <td>Algeria</td>\n",
       "      <td>2901</td>\n",
       "      <td>Grand Total</td>\n",
       "      <td>684</td>\n",
       "      <td>Fat supply quantity (g/capita/day)</td>\n",
       "      <td>g/capita/day</td>\n",
       "      <td>80.06</td>\n",
       "      <td>79.36</td>\n",
       "      <td>77.40</td>\n",
       "      <td>80.19</td>\n",
       "      <td>77.28</td>\n",
       "    </tr>\n",
       "    <tr>\n",
       "      <th>...</th>\n",
       "      <td>...</td>\n",
       "      <td>...</td>\n",
       "      <td>...</td>\n",
       "      <td>...</td>\n",
       "      <td>...</td>\n",
       "      <td>...</td>\n",
       "      <td>...</td>\n",
       "      <td>...</td>\n",
       "      <td>...</td>\n",
       "      <td>...</td>\n",
       "      <td>...</td>\n",
       "      <td>...</td>\n",
       "    </tr>\n",
       "    <tr>\n",
       "      <th>60938</th>\n",
       "      <td>181</td>\n",
       "      <td>Zimbabwe</td>\n",
       "      <td>2899</td>\n",
       "      <td>Miscellaneous</td>\n",
       "      <td>5142</td>\n",
       "      <td>Food</td>\n",
       "      <td>1000 tonnes</td>\n",
       "      <td>42.00</td>\n",
       "      <td>46.00</td>\n",
       "      <td>33.00</td>\n",
       "      <td>19.00</td>\n",
       "      <td>16.00</td>\n",
       "    </tr>\n",
       "    <tr>\n",
       "      <th>60939</th>\n",
       "      <td>181</td>\n",
       "      <td>Zimbabwe</td>\n",
       "      <td>2899</td>\n",
       "      <td>Miscellaneous</td>\n",
       "      <td>645</td>\n",
       "      <td>Food supply quantity (kg/capita/yr)</td>\n",
       "      <td>kg</td>\n",
       "      <td>3.06</td>\n",
       "      <td>3.33</td>\n",
       "      <td>2.35</td>\n",
       "      <td>1.33</td>\n",
       "      <td>1.08</td>\n",
       "    </tr>\n",
       "    <tr>\n",
       "      <th>60940</th>\n",
       "      <td>181</td>\n",
       "      <td>Zimbabwe</td>\n",
       "      <td>2899</td>\n",
       "      <td>Miscellaneous</td>\n",
       "      <td>664</td>\n",
       "      <td>Food supply (kcal/capita/day)</td>\n",
       "      <td>kcal/capita/day</td>\n",
       "      <td>3.00</td>\n",
       "      <td>4.00</td>\n",
       "      <td>3.00</td>\n",
       "      <td>1.00</td>\n",
       "      <td>1.00</td>\n",
       "    </tr>\n",
       "    <tr>\n",
       "      <th>60941</th>\n",
       "      <td>181</td>\n",
       "      <td>Zimbabwe</td>\n",
       "      <td>2899</td>\n",
       "      <td>Miscellaneous</td>\n",
       "      <td>674</td>\n",
       "      <td>Protein supply quantity (g/capita/day)</td>\n",
       "      <td>g/capita/day</td>\n",
       "      <td>0.10</td>\n",
       "      <td>0.11</td>\n",
       "      <td>0.08</td>\n",
       "      <td>0.04</td>\n",
       "      <td>0.04</td>\n",
       "    </tr>\n",
       "    <tr>\n",
       "      <th>60942</th>\n",
       "      <td>181</td>\n",
       "      <td>Zimbabwe</td>\n",
       "      <td>2899</td>\n",
       "      <td>Miscellaneous</td>\n",
       "      <td>684</td>\n",
       "      <td>Fat supply quantity (g/capita/day)</td>\n",
       "      <td>g/capita/day</td>\n",
       "      <td>0.04</td>\n",
       "      <td>0.05</td>\n",
       "      <td>0.03</td>\n",
       "      <td>0.02</td>\n",
       "      <td>0.01</td>\n",
       "    </tr>\n",
       "  </tbody>\n",
       "</table>\n",
       "<p>60943 rows × 12 columns</p>\n",
       "</div>"
      ],
      "text/plain": [
       "       Area Code      Area  Item Code           Item  Element Code  \\\n",
       "0              4   Algeria       2501     Population           511   \n",
       "1              4   Algeria       2501     Population          5301   \n",
       "2              4   Algeria       2901    Grand Total           664   \n",
       "3              4   Algeria       2901    Grand Total           674   \n",
       "4              4   Algeria       2901    Grand Total           684   \n",
       "...          ...       ...        ...            ...           ...   \n",
       "60938        181  Zimbabwe       2899  Miscellaneous          5142   \n",
       "60939        181  Zimbabwe       2899  Miscellaneous           645   \n",
       "60940        181  Zimbabwe       2899  Miscellaneous           664   \n",
       "60941        181  Zimbabwe       2899  Miscellaneous           674   \n",
       "60942        181  Zimbabwe       2899  Miscellaneous           684   \n",
       "\n",
       "                                      Element             Unit     Y2014  \\\n",
       "0               Total Population - Both sexes     1000 persons  38924.00   \n",
       "1                    Domestic supply quantity      1000 tonnes      0.00   \n",
       "2               Food supply (kcal/capita/day)  kcal/capita/day   3377.00   \n",
       "3      Protein supply quantity (g/capita/day)     g/capita/day     94.90   \n",
       "4          Fat supply quantity (g/capita/day)     g/capita/day     80.06   \n",
       "...                                       ...              ...       ...   \n",
       "60938                                    Food      1000 tonnes     42.00   \n",
       "60939     Food supply quantity (kg/capita/yr)               kg      3.06   \n",
       "60940           Food supply (kcal/capita/day)  kcal/capita/day      3.00   \n",
       "60941  Protein supply quantity (g/capita/day)     g/capita/day      0.10   \n",
       "60942      Fat supply quantity (g/capita/day)     g/capita/day      0.04   \n",
       "\n",
       "          Y2015     Y2016     Y2017     Y2018  \n",
       "0      39728.00  40551.00  41389.00  42228.00  \n",
       "1          0.00      0.00      0.00      0.00  \n",
       "2       3379.00   3372.00   3341.00   3322.00  \n",
       "3         94.35     94.72     92.82     91.83  \n",
       "4         79.36     77.40     80.19     77.28  \n",
       "...         ...       ...       ...       ...  \n",
       "60938     46.00     33.00     19.00     16.00  \n",
       "60939      3.33      2.35      1.33      1.08  \n",
       "60940      4.00      3.00      1.00      1.00  \n",
       "60941      0.11      0.08      0.04      0.04  \n",
       "60942      0.05      0.03      0.02      0.01  \n",
       "\n",
       "[60943 rows x 12 columns]"
      ]
     },
     "execution_count": 3,
     "metadata": {},
     "output_type": "execute_result"
    }
   ],
   "source": [
    "df"
   ]
  },
  {
   "cell_type": "markdown",
   "id": "2ea9fe87",
   "metadata": {},
   "source": [
    "# Finding the total number of unique values in the Area column"
   ]
  },
  {
   "cell_type": "code",
   "execution_count": 21,
   "id": "600f66b3",
   "metadata": {},
   "outputs": [
    {
     "data": {
      "text/plain": [
       "49"
      ]
     },
     "execution_count": 21,
     "metadata": {},
     "output_type": "execute_result"
    }
   ],
   "source": [
    "df['Area'].nunique()"
   ]
  },
  {
   "cell_type": "markdown",
   "id": "776d2d23",
   "metadata": {},
   "source": [
    "# Finding the shape of the dataset"
   ]
  },
  {
   "cell_type": "code",
   "execution_count": 11,
   "id": "7c9d8ded",
   "metadata": {},
   "outputs": [
    {
     "data": {
      "text/plain": [
       "(60943, 12)"
      ]
     },
     "execution_count": 11,
     "metadata": {},
     "output_type": "execute_result"
    }
   ],
   "source": [
    "df.shape"
   ]
  },
  {
   "cell_type": "markdown",
   "id": "92a61414",
   "metadata": {},
   "source": [
    "# Selecting columns ‘Y2017’ and ‘Area’, and  performing a groupby operation on ‘Area’ to find which of the Areas had the highest sum in 2017?"
   ]
  },
  {
   "cell_type": "code",
   "execution_count": 26,
   "id": "f8eccef3",
   "metadata": {},
   "outputs": [
    {
     "name": "stdout",
     "output_type": "stream",
     "text": [
      "Area with the highest sum in 2017:\n",
      "       Area         Y2017\n",
      "34  Nigeria  1.485664e+06\n"
     ]
    }
   ],
   "source": [
    "#Select the 'Area' and 'Y2017' columns\n",
    "selected_columns = df[['Area', 'Y2017']]\n",
    "\n",
    "#Group by 'Area' and calculate the sum for each area in 'Y2017' column\n",
    "grouped_data = selected_columns.groupby('Area')['Y2017'].sum().reset_index()\n",
    "\n",
    "#Find the area with the highest sum in 2017\n",
    "area_with_highest_sum = grouped_data[grouped_data['Y2017'] == grouped_data['Y2017'].max()]\n",
    "\n",
    "# Print the result\n",
    "print(\"Area with the highest sum in 2017:\")\n",
    "print(area_with_highest_sum)"
   ]
  },
  {
   "cell_type": "markdown",
   "id": "e8229c8d",
   "metadata": {},
   "source": [
    "# Finding the total number and percentage of missing data in 2014 to 3 decimal places"
   ]
  },
  {
   "cell_type": "code",
   "execution_count": 6,
   "id": "eae63c24",
   "metadata": {},
   "outputs": [],
   "source": [
    "#Checking for the total number of missing values in 'Y2014'\n",
    "total_missing = df['Y2014'].isnull().sum()"
   ]
  },
  {
   "cell_type": "code",
   "execution_count": 7,
   "id": "e8194229",
   "metadata": {},
   "outputs": [
    {
     "data": {
      "text/plain": [
       "1589"
      ]
     },
     "execution_count": 7,
     "metadata": {},
     "output_type": "execute_result"
    }
   ],
   "source": [
    "total_missing"
   ]
  },
  {
   "cell_type": "code",
   "execution_count": 8,
   "id": "21e20d00",
   "metadata": {},
   "outputs": [
    {
     "name": "stdout",
     "output_type": "stream",
     "text": [
      "Total number of missing data in column \"2014\": 1589\n",
      "Percentage of missing data in column \"2014\": 2.607%\n"
     ]
    }
   ],
   "source": [
    "# Calculate the total number of values in the '2014' column\n",
    "total_values = len(df['Y2014'])\n",
    "\n",
    "# Calculate the percentage of missing data\n",
    "percentage_missing = (total_missing / total_values) * 100\n",
    "\n",
    "# Round the percentage to 3 decimal places\n",
    "percentage_missing = round(percentage_missing, 3)\n",
    "\n",
    "# Print the results\n",
    "print(f'Total number of missing data in column \"2014\": {total_missing}')\n",
    "print(f'Percentage of missing data in column \"2014\": {percentage_missing}%') "
   ]
  },
  {
   "cell_type": "markdown",
   "id": "d633c55b",
   "metadata": {},
   "source": [
    "# Finding the total Protein supply quantity in Madagascar in 2015"
   ]
  },
  {
   "cell_type": "code",
   "execution_count": 11,
   "id": "b9feaab7",
   "metadata": {},
   "outputs": [
    {
     "name": "stdout",
     "output_type": "stream",
     "text": [
      "Total Protein supply quantity in Madagascar in 2015: 173.04999999999998\n"
     ]
    }
   ],
   "source": [
    "# Filtering the DataFrame to select rows where 'Area' is 'Madagascar', 'Element' is 'Protein supply quantity (g/capita/day)', and 'Y2015' is the column of interest\n",
    "filtered_df = df[(df['Area'] == 'Madagascar') & (df['Element'] == 'Protein supply quantity (g/capita/day)')]\n",
    "\n",
    "# Extracting the '2015' column from the filtered DataFrame and calculate the total quantity\n",
    "total_protein_supply_2015 = filtered_df['Y2015'].sum()\n",
    "\n",
    "print(f'Total Protein supply quantity in Madagascar in 2015: {total_protein_supply_2015}')"
   ]
  },
  {
   "cell_type": "markdown",
   "id": "149d7997",
   "metadata": {},
   "source": [
    "# Performing a groupby operation on ‘Element’ and finding the total number of the sum of Processing in 2017"
   ]
  },
  {
   "cell_type": "code",
   "execution_count": 13,
   "id": "c9e2d426",
   "metadata": {},
   "outputs": [
    {
     "name": "stdout",
     "output_type": "stream",
     "text": [
      "Total sum of Processing in 2017: 292836.0\n"
     ]
    }
   ],
   "source": [
    "# Grouping the DataFrame by the 'Element' column and calculating the sum of '2017' for each unique 'Element'\n",
    "grouped = df.groupby('Element')['Y2017'].sum()\n",
    "\n",
    "# Selecting the sum corresponding to 'Processing'\n",
    "total_processing_2017 = grouped['Processing']\n",
    "\n",
    "print(f'Total sum of Processing in 2017: {total_processing_2017}')\n"
   ]
  },
  {
   "cell_type": "markdown",
   "id": "a08ded5e",
   "metadata": {},
   "source": [
    "# Finding the year that had the least correlation with ‘Element Code’"
   ]
  },
  {
   "cell_type": "code",
   "execution_count": 20,
   "id": "cb4960a9",
   "metadata": {},
   "outputs": [
    {
     "name": "stderr",
     "output_type": "stream",
     "text": [
      "C:\\Users\\Administrator\\AppData\\Local\\Temp\\ipykernel_10352\\1992242030.py:1: FutureWarning: The default value of numeric_only in DataFrame.corr is deprecated. In a future version, it will default to False. Select only valid columns or specify the value of numeric_only to silence this warning.\n",
      "  df.corr()['Element Code']\n"
     ]
    },
    {
     "data": {
      "text/plain": [
       "Area Code      -0.000209\n",
       "Item Code      -0.024683\n",
       "Element Code    1.000000\n",
       "Y2014           0.024457\n",
       "Y2015           0.023889\n",
       "Y2016           0.023444\n",
       "Y2017           0.024254\n",
       "Y2018           0.024279\n",
       "Name: Element Code, dtype: float64"
      ]
     },
     "execution_count": 20,
     "metadata": {},
     "output_type": "execute_result"
    }
   ],
   "source": [
    "df.corr()['Element Code']"
   ]
  },
  {
   "cell_type": "markdown",
   "id": "dfc15698",
   "metadata": {},
   "source": [
    "From the output above, the year with the least correlation with \"Element Code\" is Y2016 with a correlation of 0.023444"
   ]
  },
  {
   "cell_type": "markdown",
   "id": "8d502250",
   "metadata": {},
   "source": [
    "# Performing a groupby operation on ‘Element’ and finding the year has the highest sum of Stock Variation?"
   ]
  },
  {
   "cell_type": "code",
   "execution_count": 33,
   "id": "20d95da4",
   "metadata": {},
   "outputs": [
    {
     "name": "stdout",
     "output_type": "stream",
     "text": [
      "Sum of Stock Variation in all years:\n",
      "                    Y2014     Y2015     Y2016     Y2017     Y2018\n",
      "Element                                                          \n",
      "Stock Variation  58749.83  34910.99  33140.12  54316.91  20577.91\n"
     ]
    }
   ],
   "source": [
    "# Filtering the DataFrame to select rows where 'Element' is 'Stock Variation'\n",
    "stock_variation_df = df[df['Element'] == 'Stock Variation']\n",
    "\n",
    "# Grouping by 'Element' and calculate the sum for each year\n",
    "grouped_data = stock_variation_df.groupby('Element')[['Y2014', 'Y2015', 'Y2016', 'Y2017', 'Y2018']].sum()\n",
    "\n",
    "print(f\"Sum of Stock Variation in all years:\\n{grouped_data}\")"
   ]
  },
  {
   "cell_type": "code",
   "execution_count": 32,
   "id": "87e20091",
   "metadata": {},
   "outputs": [
    {
     "name": "stdout",
     "output_type": "stream",
     "text": [
      "The year with the highest sum of Stock Variation is: Y2014\n"
     ]
    }
   ],
   "source": [
    "# Finding the year with the highest sum of Stock Variation\n",
    "highest_sum_year = grouped_data.idxmax(axis=1)\n",
    "print(f\"The year with the highest sum of Stock Variation is: {highest_sum_year[0]}\")"
   ]
  },
  {
   "cell_type": "code",
   "execution_count": 42,
   "id": "5817dbbb",
   "metadata": {},
   "outputs": [
    {
     "ename": "TypeError",
     "evalue": "'tuple' object does not support item assignment",
     "output_type": "error",
     "traceback": [
      "\u001b[1;31m---------------------------------------------------------------------------\u001b[0m",
      "\u001b[1;31mTypeError\u001b[0m                                 Traceback (most recent call last)",
      "Cell \u001b[1;32mIn[42], line 3\u001b[0m\n\u001b[0;32m      1\u001b[0m my_tuppy \u001b[38;5;241m=\u001b[39m (\u001b[38;5;241m1\u001b[39m,\u001b[38;5;241m2\u001b[39m,\u001b[38;5;241m5\u001b[39m,\u001b[38;5;241m8\u001b[39m)\n\u001b[1;32m----> 3\u001b[0m my_tuppy[\u001b[38;5;241m2\u001b[39m] \u001b[38;5;241m=\u001b[39m \u001b[38;5;241m6\u001b[39m\n",
      "\u001b[1;31mTypeError\u001b[0m: 'tuple' object does not support item assignment"
     ]
    }
   ],
   "source": [
    "my_tuppy = (1,2,5,8)\n",
    "\n",
    "my_tuppy[2] = 6"
   ]
  },
  {
   "cell_type": "markdown",
   "id": "b29ea045",
   "metadata": {},
   "source": [
    "# Selecting columns ‘Y2017’ and ‘Area’, performing a groupby operation on ‘Area’ and finding which of the Areas had the 7th lowest sum in 2017"
   ]
  },
  {
   "cell_type": "code",
   "execution_count": 37,
   "id": "b62d159d",
   "metadata": {},
   "outputs": [
    {
     "name": "stdout",
     "output_type": "stream",
     "text": [
      "The area with the 7th lowest sum in 2017 is: Guinea-Bissau\n"
     ]
    }
   ],
   "source": [
    "# Selecting columns 'Y2017' and 'Area'\n",
    "selected_columns = df[['Y2017', 'Area']]\n",
    "\n",
    "# Grouping by 'Area' and calculating the sum for each area in 'Y2017' column\n",
    "grouped_data = selected_columns.groupby('Area')['Y2017'].sum().reset_index()\n",
    "\n",
    "# Sorting the data by the sum in ascending order\n",
    "sorted_data = grouped_data.sort_values(by='Y2017')\n",
    "\n",
    "# Finding the Area with the 7th lowest sum in 2017\n",
    "seventh_lowest_area = sorted_data.iloc[6]['Area']\n",
    "\n",
    "print(f\"The area with the 7th lowest sum in 2017 is: {seventh_lowest_area}\")"
   ]
  },
  {
   "cell_type": "markdown",
   "id": "e52ed7f3",
   "metadata": {},
   "source": [
    "# Finding the mean and standard deviation across the whole dataset for the year 2017 to 2 decimal places"
   ]
  },
  {
   "cell_type": "code",
   "execution_count": 39,
   "id": "0630378e",
   "metadata": {},
   "outputs": [
    {
     "name": "stdout",
     "output_type": "stream",
     "text": [
      "Mean for the year 2017: 140.92\n",
      "Standard Deviation for the year 2017: 1671.86\n"
     ]
    }
   ],
   "source": [
    "# Select the 'Y2017' column from the DataFrame\n",
    "y2017_column = df['Y2017']\n",
    "\n",
    "# Calculate the mean and standard deviation for the 'Y2017' column\n",
    "mean_2017 = round(y2017_column.mean(), 2)\n",
    "std_deviation_2017 = round(y2017_column.std(), 2)\n",
    "\n",
    "print(f\"Mean for the year 2017: {mean_2017}\")\n",
    "print(f\"Standard Deviation for the year 2017: {std_deviation_2017}\")"
   ]
  },
  {
   "cell_type": "code",
   "execution_count": 43,
   "id": "c6f558df",
   "metadata": {},
   "outputs": [
    {
     "data": {
      "text/plain": [
       "'e'"
      ]
     },
     "execution_count": 43,
     "metadata": {},
     "output_type": "execute_result"
    }
   ],
   "source": [
    "S = [['him', 'sell'], [90, 28, 43]]\n",
    "S[0][1][1]"
   ]
  },
  {
   "cell_type": "markdown",
   "id": "0c542f2e",
   "metadata": {},
   "source": [
    "# Performing a groupby sum aggregation on ‘Item’ to find the total sum of Wine produced in 2015 and 2018"
   ]
  },
  {
   "cell_type": "code",
   "execution_count": 41,
   "id": "3c98001e",
   "metadata": {},
   "outputs": [
    {
     "name": "stdout",
     "output_type": "stream",
     "text": [
      "Total Wine produced in 2015: 4251.8099999999995\n",
      "Total Wine produced in 2018: 4039.3199999999997\n"
     ]
    }
   ],
   "source": [
    "# Filter the DataFrame to select rows where 'Item' is 'Wine'\n",
    "wine_df = df[df['Item'] == 'Wine']\n",
    "\n",
    "# Calculate the total sum of Wine produced in 2015 and 2018\n",
    "total_wine_2015 = wine_df['Y2015'].sum()\n",
    "total_wine_2018 = wine_df['Y2018'].sum()\n",
    "\n",
    "print(f\"Total Wine produced in 2015: {total_wine_2015}\")\n",
    "print(f\"Total Wine produced in 2018: {total_wine_2018}\")"
   ]
  },
  {
   "cell_type": "code",
   "execution_count": 44,
   "id": "9b72c064",
   "metadata": {},
   "outputs": [],
   "source": [
    "y = [(2, 4), (7, 8), (1, 5, 9)]"
   ]
  },
  {
   "cell_type": "code",
   "execution_count": 45,
   "id": "4e4a10e5",
   "metadata": {},
   "outputs": [
    {
     "name": "stdout",
     "output_type": "stream",
     "text": [
      "8\n"
     ]
    }
   ],
   "source": [
    "x = y[1][1]\n",
    "print(x)"
   ]
  },
  {
   "cell_type": "code",
   "execution_count": 47,
   "id": "0c6dec0f",
   "metadata": {},
   "outputs": [
    {
     "data": {
      "text/html": [
       "<div>\n",
       "<style scoped>\n",
       "    .dataframe tbody tr th:only-of-type {\n",
       "        vertical-align: middle;\n",
       "    }\n",
       "\n",
       "    .dataframe tbody tr th {\n",
       "        vertical-align: top;\n",
       "    }\n",
       "\n",
       "    .dataframe thead th {\n",
       "        text-align: right;\n",
       "    }\n",
       "</style>\n",
       "<table border=\"1\" class=\"dataframe\">\n",
       "  <thead>\n",
       "    <tr style=\"text-align: right;\">\n",
       "      <th></th>\n",
       "      <th>Age</th>\n",
       "      <th>Nationality</th>\n",
       "      <th>Overall</th>\n",
       "    </tr>\n",
       "  </thead>\n",
       "  <tbody>\n",
       "    <tr>\n",
       "      <th>1</th>\n",
       "      <td>35</td>\n",
       "      <td>Portugal</td>\n",
       "      <td>94</td>\n",
       "    </tr>\n",
       "    <tr>\n",
       "      <th>2</th>\n",
       "      <td>33</td>\n",
       "      <td>Argentina</td>\n",
       "      <td>93</td>\n",
       "    </tr>\n",
       "    <tr>\n",
       "      <th>3</th>\n",
       "      <td>30</td>\n",
       "      <td>Brazil</td>\n",
       "      <td>92</td>\n",
       "    </tr>\n",
       "  </tbody>\n",
       "</table>\n",
       "</div>"
      ],
      "text/plain": [
       "   Age Nationality  Overall\n",
       "1   35    Portugal       94\n",
       "2   33   Argentina       93\n",
       "3   30      Brazil       92"
      ]
     },
     "execution_count": 47,
     "metadata": {},
     "output_type": "execute_result"
    }
   ],
   "source": [
    "lst = [[35, 'Portugal', 94], [33, 'Argentina', 93], [30 , 'Brazil', 92]]\n",
    "col = ['Age','Nationality','Overall']\n",
    "pd.DataFrame(lst, columns = col, index = [i for i in range(1,4)])"
   ]
  }
 ],
 "metadata": {
  "kernelspec": {
   "display_name": "Python 3 (ipykernel)",
   "language": "python",
   "name": "python3"
  },
  "language_info": {
   "codemirror_mode": {
    "name": "ipython",
    "version": 3
   },
   "file_extension": ".py",
   "mimetype": "text/x-python",
   "name": "python",
   "nbconvert_exporter": "python",
   "pygments_lexer": "ipython3",
   "version": "3.11.4"
  }
 },
 "nbformat": 4,
 "nbformat_minor": 5
}
